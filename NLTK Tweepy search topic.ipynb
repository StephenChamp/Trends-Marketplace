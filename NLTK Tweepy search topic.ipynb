{
 "cells": [
  {
   "cell_type": "code",
   "execution_count": 9,
   "metadata": {},
   "outputs": [],
   "source": [
    "import tweepy\n",
    "from tweepy import OAuthHandler\n",
    "import csv\n",
    "import matplotlib.pyplot as plt\n",
    "import pandas as pd\n",
    "import os \n",
    "import nltk\n",
    "from nltk.tokenize import sent_tokenize, word_tokenize\n",
    "from nltk.sentiment.vader import SentimentIntensityAnalyzer"
   ]
  },
  {
   "cell_type": "code",
   "execution_count": 37,
   "metadata": {},
   "outputs": [],
   "source": [
    "def What_to_Search_Twitter(search):\n",
    "    consumer_key = \"x\"\n",
    "    consumer_secret = \"x\"\n",
    "    access_token = \"x\"\n",
    "    access_token_secret = \"x\"\n",
    "\n",
    "    auth = OAuthHandler(consumer_key, consumer_secret)\n",
    "    auth.set_access_token(access_token, access_token_secret)\n",
    "\n",
    "    api = tweepy.API(auth, wait_on_rate_limit = True)\n",
    "\n",
    "    tweet_list = []\n",
    "    tweet_data = []\n",
    "\n",
    "    for tweet in tweepy.Cursor(api.search,q= search,count=25,\n",
    "                               lang=\"en\").items():\n",
    "        tweet_list.append(tweet.text)\n",
    "        tweet_data.append(tweet)\n",
    "        if len(tweet_list) > 100:\n",
    "            break\n",
    "            \n",
    "            \n",
    "    def tweets_df(results):\n",
    "        id_list = [tweet.id for tweet  in results]\n",
    "        data_set = pd.DataFrame(id_list, columns = [\"id\"])\n",
    "\n",
    "        data_set[\"text\"] = [tweet.text for tweet in results]\n",
    "        data_set[\"created_at\"] = [tweet.created_at for tweet in results]\n",
    "        data_set[\"retweet_count\"] = [tweet.retweet_count for tweet in results]\n",
    "        data_set[\"user_screen_name\"] = [tweet.author.screen_name for tweet in results]\n",
    "        data_set[\"user_followers_count\"] = [tweet.author.followers_count for tweet in results]\n",
    "        data_set[\"user_location\"] = [tweet.author.location for tweet in results]\n",
    "        data_set[\"Hashtags\"] = [tweet.entities.get('hashtags') for tweet in results]\n",
    "        \n",
    "        return data_set\n",
    "    \n",
    "    tweet_data = tweets_df(tweet_data)\n",
    "    \n",
    "    \n",
    "\n",
    "\n",
    "    #    csvWriter.writerow([tweet.created_at, tweet.text.encode('utf-8')])\n",
    "\n",
    "\n",
    "\n",
    "\n",
    "\n",
    "    tokens = []\n",
    "    sentiment_calc = {\"compound\": 0 , \"neg\": 0, \"neu\": 0, \"pos\": 0}\n",
    "    sentiment_count = {\"compound\": 0 , \"neg\": 0, \"neu\": 0, \"pos\": 0}\n",
    "\n",
    "    #tweets = data[\"text\"].tolist()\n",
    "    #\n",
    "    #for tweet in tweets:\n",
    "    #    tokens.append(word_tokenize(tweet))\n",
    "\n",
    "\n",
    "    sid = SentimentIntensityAnalyzer()\n",
    "\n",
    "    for sentence in tweet_list:\n",
    "        ss = sid.polarity_scores(sentence)\n",
    "        for k in sorted(ss):\n",
    "    #        print('{0}: {1}, '.format(k, ss[k]), end='')\n",
    "            sentiment_calc[k] = sentiment_calc[k] + ss[k]\n",
    "            if ss[k] > 0:\n",
    "                sentiment_count[k] = sentiment_count[k] + 1\n",
    "                \n",
    "#    print(sentiment_calc)\n",
    "#    print(sentiment_count)\n",
    "\n",
    "    figgg = plt.figure(figsize = [11 , 4])\n",
    "    figgg.add_subplot(2,2,2)\n",
    "    \n",
    "    graph = pd.Series(sentiment_count)\n",
    "\n",
    "    graph.plot.bar()\n",
    "    return plt.show()\n",
    "        \n",
    "        \n",
    "        \n",
    "   \n",
    "        \n",
    "        "
   ]
  },
  {
   "cell_type": "code",
   "execution_count": 38,
   "metadata": {},
   "outputs": [
    {
     "data": {
      "image/png": "[encoded data removed]",
      "text/plain": [
       "<matplotlib.figure.Figure at 0x28da1640f60>"
      ]
     },
     "metadata": {},
     "output_type": "display_data"
    }
   ],
   "source": [
    "What_to_Search_Twitter(\"walmart\")"
   ]
  }
 ],
 "metadata": {
  "kernelspec": {
   "display_name": "Python 3",
   "language": "python",
   "name": "python3"
  },
  "language_info": {
   "codemirror_mode": {
    "name": "ipython",
    "version": 3
   },
   "file_extension": ".py",
   "mimetype": "text/x-python",
   "name": "python",
   "nbconvert_exporter": "python",
   "pygments_lexer": "ipython3",
   "version": "3.6.4"
  }
 },
 "nbformat": 4,
 "nbformat_minor": 2
}
